{
 "cells": [
  {
   "cell_type": "markdown",
   "metadata": {},
   "source": [
    "# Summary\n"
   ]
  },
  {
   "cell_type": "markdown",
   "metadata": {},
   "source": [
    "## So some highlights of the t20 world cup 2022 we found from our analysis are:\n",
    "\n",
    "### 1.England won the most number of matches\n",
    "### 2.Virat Kohli scored highest in the most number of matches\n",
    "### 3.Sam Curran was the best bowler in the most number of matches\n",
    "### 4.More teams won by batting first\n",
    "### 5.More teams decided to bat first\n",
    "### 6.SCG was the best stadium to bat first\n",
    "### 7.SCG was the best stadium to defend the target in the World Cup\n",
    "### 8.The Optus Stadium was the best stadium to bowl first\n",
    "\n",
    "\n",
    "# I hope you liked this article on the t20 world cup 2022 analysis using Python. "
   ]
  },
  {
   "cell_type": "code",
   "execution_count": null,
   "metadata": {},
   "outputs": [],
   "source": []
  }
 ],
 "metadata": {
  "language_info": {
   "name": "python"
  }
 },
 "nbformat": 4,
 "nbformat_minor": 2
}
